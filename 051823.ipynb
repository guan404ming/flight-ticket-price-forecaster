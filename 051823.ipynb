{
 "cells": [
  {
   "cell_type": "code",
   "execution_count": 1,
   "metadata": {},
   "outputs": [],
   "source": [
    "from skforecast.ForecasterAutoregMultiSeriesCustom import ForecasterAutoregMultiSeriesCustom\n",
    "from skforecast.ForecasterAutoregMultiSeries import ForecasterAutoregMultiSeries\n",
    "from sklearn.ensemble import RandomForestRegressor\n",
    "from sklearn.metrics import mean_squared_error\n",
    "import pandas as pd\n",
    "import numpy as np"
   ]
  },
  {
   "cell_type": "code",
   "execution_count": 2,
   "metadata": {},
   "outputs": [],
   "source": [
    "FILEPATH = \"tests/short_ts.csv\"\n",
    "sts = pd.read_csv(FILEPATH, parse_dates=[0])"
   ]
  },
  {
   "cell_type": "code",
   "execution_count": 336,
   "metadata": {},
   "outputs": [],
   "source": [
    "reg = ForecasterAutoregMultiSeries(\n",
    "    regressor=RandomForestRegressor(random_state=41),\n",
    "    lags=2,\n",
    "    series_weights={\"1\": 0.1, \"2\": 1.1, \"3\": 2.1}\n",
    ")"
   ]
  },
  {
   "cell_type": "code",
   "execution_count": 311,
   "metadata": {},
   "outputs": [],
   "source": [
    "filled_sts = sts.copy().fillna(0)\n",
    "series = filled_sts"
   ]
  },
  {
   "cell_type": "code",
   "execution_count": 312,
   "metadata": {},
   "outputs": [
    {
     "name": "stderr",
     "output_type": "stream",
     "text": [
      "/home/ywnien/py/IM1013/.IM1013/lib/python3.11/site-packages/skforecast/utils/utils.py:626: UserWarning: `y` has no DatetimeIndex nor RangeIndex index. Index is overwritten with a RangeIndex.\n",
      "  warnings.warn(\n"
     ]
    }
   ],
   "source": [
    "reg.fit(filled_sts, exog=pd.DataFrame({key: np.zeros(series.index.size) for key in \"ABC\"}))"
   ]
  },
  {
   "cell_type": "code",
   "execution_count": null,
   "metadata": {},
   "outputs": [],
   "source": [
    "from sklearn.preprocessing import StandardScaler"
   ]
  },
  {
   "cell_type": "code",
   "execution_count": 190,
   "metadata": {},
   "outputs": [
    {
     "name": "stderr",
     "output_type": "stream",
     "text": [
      "/home/ywnien/py/IM1013/.IM1013/lib/python3.11/site-packages/skforecast/utils/utils.py:626: UserWarning: `y` has no DatetimeIndex nor RangeIndex index. Index is overwritten with a RangeIndex.\n",
      "  warnings.warn(\n"
     ]
    }
   ],
   "source": [
    "res = reg.create_train_X_y(filled_sts, exog=pd.DataFrame({key: np.zeros(filled_sts.index.size) for key in \"ABC\"}))"
   ]
  },
  {
   "cell_type": "code",
   "execution_count": 4,
   "metadata": {},
   "outputs": [],
   "source": [
    "l1 = [1, 2, 3, 4, 5]\n",
    "l2 = [1, 2, 3]"
   ]
  },
  {
   "cell_type": "code",
   "execution_count": 9,
   "metadata": {},
   "outputs": [
    {
     "name": "stdout",
     "output_type": "stream",
     "text": [
      "762 ns ± 96.6 ns per loop (mean ± std. dev. of 7 runs, 1,000,000 loops each)\n"
     ]
    }
   ],
   "source": [
    "%%timeit\n",
    "[element for element in l1 if element not in l2]"
   ]
  },
  {
   "cell_type": "code",
   "execution_count": 10,
   "metadata": {},
   "outputs": [
    {
     "name": "stdout",
     "output_type": "stream",
     "text": [
      "1.09 µs ± 174 ns per loop (mean ± std. dev. of 7 runs, 100,000 loops each)\n"
     ]
    }
   ],
   "source": [
    "%%timeit\n",
    "list(set(l1) ^ set(l2))"
   ]
  },
  {
   "cell_type": "code",
   "execution_count": 12,
   "metadata": {},
   "outputs": [],
   "source": [
    "import numpy as np"
   ]
  },
  {
   "cell_type": "code",
   "execution_count": 13,
   "metadata": {},
   "outputs": [],
   "source": [
    "array_2d = np.array([\n",
    "    [1, 2, 3],\n",
    "    [4, 5, 6],\n",
    "    [7, 8, 9],\n",
    "])\n",
    "\n",
    "list_2d = [\n",
    "    [1, 2, 3],\n",
    "    [4, 5, 6],\n",
    "    [7, 8, 9],\n",
    "]"
   ]
  },
  {
   "cell_type": "code",
   "execution_count": 1,
   "metadata": {},
   "outputs": [],
   "source": [
    "from tstide.transformer import _rearrange\n",
    "\n",
    "tst = _rearrange.main()\n",
    "tst, X = tst"
   ]
  },
  {
   "cell_type": "code",
   "execution_count": 2,
   "metadata": {},
   "outputs": [
    {
     "data": {
      "text/plain": [
       "(array([[[ 11., 100., 200.,   0.],\n",
       "         [ 21., 100., 200.,   1.],\n",
       "         [ 31., 100., 200.,   2.]],\n",
       " \n",
       "        [[ 42., 110., 210.,   3.],\n",
       "         [ 52., 110., 210.,   4.],\n",
       "         [ 62., 110., 210.,   5.]],\n",
       " \n",
       "        [[ 52., 110., 210.,   4.],\n",
       "         [ 62., 110., 210.,   5.],\n",
       "         [ 72., 110., 210.,   6.]],\n",
       " \n",
       "        [[ 63., 120., 220.,   5.],\n",
       "         [ 73., 120., 220.,   6.],\n",
       "         [ 83., 120., 220.,   7.]]]),\n",
       " ['lag_3', 'lag_2', 'lag_1', 'var_1', 'exog1', 'exog2'])"
      ]
     },
     "execution_count": 2,
     "metadata": {},
     "output_type": "execute_result"
    }
   ],
   "source": [
    "X, tst.X_columns"
   ]
  },
  {
   "cell_type": "code",
   "execution_count": 10,
   "metadata": {},
   "outputs": [
    {
     "data": {
      "text/html": [
       "<div>\n",
       "<style scoped>\n",
       "    .dataframe tbody tr th:only-of-type {\n",
       "        vertical-align: middle;\n",
       "    }\n",
       "\n",
       "    .dataframe tbody tr th {\n",
       "        vertical-align: top;\n",
       "    }\n",
       "\n",
       "    .dataframe thead th {\n",
       "        text-align: right;\n",
       "    }\n",
       "</style>\n",
       "<table border=\"1\" class=\"dataframe\">\n",
       "  <thead>\n",
       "    <tr style=\"text-align: right;\">\n",
       "      <th></th>\n",
       "      <th>lag_3</th>\n",
       "      <th>lag_2</th>\n",
       "      <th>lag_1</th>\n",
       "      <th>var_1</th>\n",
       "      <th>exog1</th>\n",
       "      <th>exog2</th>\n",
       "    </tr>\n",
       "  </thead>\n",
       "  <tbody>\n",
       "    <tr>\n",
       "      <th>0</th>\n",
       "      <td>11.0</td>\n",
       "      <td>21.0</td>\n",
       "      <td>31.0</td>\n",
       "      <td>3.0</td>\n",
       "      <td>100.0</td>\n",
       "      <td>200.0</td>\n",
       "    </tr>\n",
       "    <tr>\n",
       "      <th>1</th>\n",
       "      <td>42.0</td>\n",
       "      <td>52.0</td>\n",
       "      <td>62.0</td>\n",
       "      <td>6.0</td>\n",
       "      <td>110.0</td>\n",
       "      <td>210.0</td>\n",
       "    </tr>\n",
       "    <tr>\n",
       "      <th>2</th>\n",
       "      <td>52.0</td>\n",
       "      <td>62.0</td>\n",
       "      <td>72.0</td>\n",
       "      <td>7.0</td>\n",
       "      <td>110.0</td>\n",
       "      <td>210.0</td>\n",
       "    </tr>\n",
       "    <tr>\n",
       "      <th>3</th>\n",
       "      <td>63.0</td>\n",
       "      <td>73.0</td>\n",
       "      <td>83.0</td>\n",
       "      <td>8.0</td>\n",
       "      <td>120.0</td>\n",
       "      <td>220.0</td>\n",
       "    </tr>\n",
       "  </tbody>\n",
       "</table>\n",
       "</div>"
      ],
      "text/plain": [
       "   lag_3  lag_2  lag_1  var_1  exog1  exog2\n",
       "0   11.0   21.0   31.0    3.0  100.0  200.0\n",
       "1   42.0   52.0   62.0    6.0  110.0  210.0\n",
       "2   52.0   62.0   72.0    7.0  110.0  210.0\n",
       "3   63.0   73.0   83.0    8.0  120.0  220.0"
      ]
     },
     "metadata": {},
     "output_type": "display_data"
    },
    {
     "data": {
      "text/html": [
       "<div>\n",
       "<style scoped>\n",
       "    .dataframe tbody tr th:only-of-type {\n",
       "        vertical-align: middle;\n",
       "    }\n",
       "\n",
       "    .dataframe tbody tr th {\n",
       "        vertical-align: top;\n",
       "    }\n",
       "\n",
       "    .dataframe thead th {\n",
       "        text-align: right;\n",
       "    }\n",
       "</style>\n",
       "<table border=\"1\" class=\"dataframe\">\n",
       "  <thead>\n",
       "    <tr style=\"text-align: right;\">\n",
       "      <th></th>\n",
       "      <th>step_1</th>\n",
       "    </tr>\n",
       "  </thead>\n",
       "  <tbody>\n",
       "    <tr>\n",
       "      <th>0</th>\n",
       "      <td>41</td>\n",
       "    </tr>\n",
       "    <tr>\n",
       "      <th>1</th>\n",
       "      <td>72</td>\n",
       "    </tr>\n",
       "    <tr>\n",
       "      <th>2</th>\n",
       "      <td>82</td>\n",
       "    </tr>\n",
       "    <tr>\n",
       "      <th>3</th>\n",
       "      <td>93</td>\n",
       "    </tr>\n",
       "  </tbody>\n",
       "</table>\n",
       "</div>"
      ],
      "text/plain": [
       "   step_1\n",
       "0      41\n",
       "1      72\n",
       "2      82\n",
       "3      93"
      ]
     },
     "metadata": {},
     "output_type": "display_data"
    }
   ],
   "source": [
    "import pandas as pd\n",
    "from IPython.display import display\n",
    "display(pd.DataFrame(X, columns=tst.X_columns))\n",
    "display(pd.DataFrame(tst.y, columns=tst.y_columns))\n"
   ]
  },
  {
   "cell_type": "code",
   "execution_count": 79,
   "metadata": {},
   "outputs": [
    {
     "data": {
      "text/plain": [
       "array([[1, 2, 3],\n",
       "       [4, 5, 6],\n",
       "       [7, 8, 9],\n",
       "       [1, 2, 3],\n",
       "       [4, 5, 6],\n",
       "       [7, 8, 9],\n",
       "       [1, 2, 3],\n",
       "       [4, 5, 6],\n",
       "       [7, 8, 9],\n",
       "       [1, 2, 3],\n",
       "       [4, 5, 6],\n",
       "       [7, 8, 9],\n",
       "       [1, 2, 3],\n",
       "       [4, 5, 6],\n",
       "       [7, 8, 9],\n",
       "       [1, 2, 3],\n",
       "       [4, 5, 6],\n",
       "       [7, 8, 9],\n",
       "       [1, 2, 3],\n",
       "       [4, 5, 6],\n",
       "       [7, 8, 9],\n",
       "       [1, 2, 3],\n",
       "       [4, 5, 6],\n",
       "       [7, 8, 9],\n",
       "       [1, 2, 3],\n",
       "       [4, 5, 6],\n",
       "       [7, 8, 9],\n",
       "       [1, 2, 3],\n",
       "       [4, 5, 6],\n",
       "       [7, 8, 9],\n",
       "       [1, 2, 3],\n",
       "       [4, 5, 6],\n",
       "       [7, 8, 9],\n",
       "       [1, 2, 3],\n",
       "       [4, 5, 6],\n",
       "       [7, 8, 9],\n",
       "       [1, 2, 3],\n",
       "       [4, 5, 6],\n",
       "       [7, 8, 9],\n",
       "       [1, 2, 3],\n",
       "       [4, 5, 6],\n",
       "       [7, 8, 9],\n",
       "       [1, 2, 3],\n",
       "       [4, 5, 6],\n",
       "       [7, 8, 9],\n",
       "       [1, 2, 3],\n",
       "       [4, 5, 6],\n",
       "       [7, 8, 9],\n",
       "       [1, 2, 3],\n",
       "       [4, 5, 6],\n",
       "       [7, 8, 9],\n",
       "       [1, 2, 3],\n",
       "       [4, 5, 6],\n",
       "       [7, 8, 9],\n",
       "       [1, 2, 3],\n",
       "       [4, 5, 6],\n",
       "       [7, 8, 9],\n",
       "       [1, 2, 3],\n",
       "       [4, 5, 6],\n",
       "       [7, 8, 9]])"
      ]
     },
     "execution_count": 79,
     "metadata": {},
     "output_type": "execute_result"
    }
   ],
   "source": [
    "res_ = []\n",
    "for _ in range(2):\n",
    "    res = []\n",
    "    for _ in range(10):\n",
    "        res.append(array_2d)\n",
    "    res_.append(np.vstack(res))\n",
    "np.vstack(res_)"
   ]
  },
  {
   "attachments": {},
   "cell_type": "markdown",
   "metadata": {},
   "source": [
    "# Pipeline object"
   ]
  },
  {
   "cell_type": "code",
   "execution_count": 75,
   "metadata": {},
   "outputs": [
    {
     "data": {
      "text/html": [
       "<div>\n",
       "<style scoped>\n",
       "    .dataframe tbody tr th:only-of-type {\n",
       "        vertical-align: middle;\n",
       "    }\n",
       "\n",
       "    .dataframe tbody tr th {\n",
       "        vertical-align: top;\n",
       "    }\n",
       "\n",
       "    .dataframe thead th {\n",
       "        text-align: right;\n",
       "    }\n",
       "</style>\n",
       "<table border=\"1\" class=\"dataframe\">\n",
       "  <thead>\n",
       "    <tr style=\"text-align: right;\">\n",
       "      <th></th>\n",
       "      <th>0</th>\n",
       "      <th>random_int</th>\n",
       "    </tr>\n",
       "  </thead>\n",
       "  <tbody>\n",
       "    <tr>\n",
       "      <th>0</th>\n",
       "      <td>0</td>\n",
       "      <td>1</td>\n",
       "    </tr>\n",
       "    <tr>\n",
       "      <th>1</th>\n",
       "      <td>1</td>\n",
       "      <td>5</td>\n",
       "    </tr>\n",
       "    <tr>\n",
       "      <th>2</th>\n",
       "      <td>2</td>\n",
       "      <td>5</td>\n",
       "    </tr>\n",
       "    <tr>\n",
       "      <th>3</th>\n",
       "      <td>3</td>\n",
       "      <td>0</td>\n",
       "    </tr>\n",
       "    <tr>\n",
       "      <th>4</th>\n",
       "      <td>4</td>\n",
       "      <td>7</td>\n",
       "    </tr>\n",
       "    <tr>\n",
       "      <th>5</th>\n",
       "      <td>5</td>\n",
       "      <td>5</td>\n",
       "    </tr>\n",
       "    <tr>\n",
       "      <th>6</th>\n",
       "      <td>6</td>\n",
       "      <td>7</td>\n",
       "    </tr>\n",
       "    <tr>\n",
       "      <th>7</th>\n",
       "      <td>7</td>\n",
       "      <td>1</td>\n",
       "    </tr>\n",
       "    <tr>\n",
       "      <th>8</th>\n",
       "      <td>8</td>\n",
       "      <td>3</td>\n",
       "    </tr>\n",
       "    <tr>\n",
       "      <th>9</th>\n",
       "      <td>9</td>\n",
       "      <td>0</td>\n",
       "    </tr>\n",
       "  </tbody>\n",
       "</table>\n",
       "</div>"
      ],
      "text/plain": [
       "   0  random_int\n",
       "0  0           1\n",
       "1  1           5\n",
       "2  2           5\n",
       "3  3           0\n",
       "4  4           7\n",
       "5  5           5\n",
       "6  6           7\n",
       "7  7           1\n",
       "8  8           3\n",
       "9  9           0"
      ]
     },
     "execution_count": 75,
     "metadata": {},
     "output_type": "execute_result"
    }
   ],
   "source": [
    "from sklearn.base import BaseEstimator, TransformerMixin\n",
    "import pandas as pd\n",
    "import numpy as np\n",
    "from numpy.random import randint\n",
    "from sklearn.pipeline import make_pipeline\n",
    "\n",
    "class Dispatcher(BaseEstimator, TransformerMixin):\n",
    "    # def __init__(self, name: str) -> None:\n",
    "    #     self.name = name\n",
    "    \n",
    "    def register(self, value):\n",
    "        self.__value = value\n",
    "    \n",
    "    def fit(self, X, y=None):\n",
    "        return self\n",
    "    \n",
    "    def transform(self, y):\n",
    "        return self.value\n",
    "    \n",
    "    @property\n",
    "    def getter_test(self):\n",
    "        return self.__value\n",
    "        \n",
    "\n",
    "class CustomTransformer(BaseEstimator, TransformerMixin):\n",
    "    def __init__(self, dispatcher: Dispatcher):\n",
    "        self.dispatch = dispatcher\n",
    "\n",
    "    def fit(self, X, y=None):\n",
    "        return self\n",
    "\n",
    "    def transform(self, X, y=None):\n",
    "        # Perform arbitary transformation\n",
    "        X[\"random_int\"] = randint(0, 10, X.shape[0])\n",
    "        y = randint(100, 110, X.shape[0])\n",
    "        self.dispatch.register(y)\n",
    "        # self.sticky = 28\n",
    "        return X\n",
    "\n",
    "\n",
    "# ct = CustomTransformer()\n",
    "# ct.transform(pd.DataFrame(range(10)))\n",
    "dispatcher = Dispatcher()\n",
    "pipe = make_pipeline(CustomTransformer(dispatcher))\n",
    "pipe.fit_transform(pd.DataFrame(range(10)), range(10))"
   ]
  },
  {
   "cell_type": "code",
   "execution_count": 65,
   "metadata": {},
   "outputs": [
    {
     "data": {
      "text/plain": [
       "array([106, 109, 101, 100, 105, 103, 101, 106, 100, 105])"
      ]
     },
     "execution_count": 65,
     "metadata": {},
     "output_type": "execute_result"
    }
   ],
   "source": [
    "# dispatcher.value"
   ]
  },
  {
   "attachments": {},
   "cell_type": "markdown",
   "metadata": {},
   "source": [
    "# FeatureUnion"
   ]
  },
  {
   "cell_type": "code",
   "execution_count": 72,
   "metadata": {},
   "outputs": [
    {
     "data": {
      "text/plain": [
       "array([[ 1.5       ,  3.03954967,  0.87243213],\n",
       "       [-1.5       ,  5.72586357, -0.46312679]])"
      ]
     },
     "execution_count": 72,
     "metadata": {},
     "output_type": "execute_result"
    }
   ],
   "source": [
    "from sklearn.pipeline import FeatureUnion\n",
    "from sklearn.decomposition import PCA, TruncatedSVD\n",
    "union = FeatureUnion([\n",
    "    (\"pca\", PCA(n_components=1)),\n",
    "    (\"svd\", TruncatedSVD(n_components=2))\n",
    "])\n",
    "X = [[0., 1., 3], [2., 2., 5]]\n",
    "union.fit_transform(X)"
   ]
  },
  {
   "attachments": {},
   "cell_type": "markdown",
   "metadata": {},
   "source": [
    "# MultiSeriesCustom"
   ]
  },
  {
   "cell_type": "code",
   "execution_count": 156,
   "metadata": {},
   "outputs": [],
   "source": [
    "test_frame = pd.DataFrame({\"A\": np.arange(40), \"B\": np.arange(40) + 10, \"C\": np.arange(40) + 10})\n",
    "\n",
    "def create_predictors(y):\n",
    "    \"\"\"\n",
    "    Create first 10 lags of a time series.\n",
    "    Calculate moving average with window 20.\n",
    "    \"\"\"\n",
    "\n",
    "    lags = y[-1:-11:-1]     # window_size = 10\n",
    "    mean = np.mean(y[-20:]) # window_size = 20\n",
    "    predictors = np.hstack([lags, mean])\n",
    "\n",
    "    return predictors"
   ]
  },
  {
   "cell_type": "code",
   "execution_count": 247,
   "metadata": {},
   "outputs": [
    {
     "name": "stderr",
     "output_type": "stream",
     "text": [
      "/home/ywnien/py/IM1013/.IM1013/lib/python3.11/site-packages/skforecast/utils/utils.py:626: UserWarning: `y` has no DatetimeIndex nor RangeIndex index. Index is overwritten with a RangeIndex.\n",
      "  warnings.warn(\n"
     ]
    }
   ],
   "source": [
    "from skforecast.utils import check_y, preprocess_y\n",
    "# series = data_train\n",
    "# window_size = 20\n",
    "# fun_predictors = create_predictors\n",
    "series = filled_sts\n",
    "window_size = 3\n",
    "fun_predictors = lambda y: np.hstack([y[-2:], np.mean(y[-2:])])\n",
    "\n",
    "X_levels = []\n",
    "expected = []\n",
    "for i, serie in enumerate(series.columns):\n",
    "    y = series[serie]\n",
    "    check_y(y=y)\n",
    "    # NOTE: Encoders part\n",
    "    # y = transform_series(\n",
    "    #     series            = y,\n",
    "    #     transformer       = self.transformer_series_[serie],\n",
    "    #     fit               = True,\n",
    "    #     inverse_transform = False\n",
    "    # )\n",
    "\n",
    "    y_values, y_index = preprocess_y(y=y) # 其實在給我做型態檢查，根本沒有preprocess :(\n",
    "\n",
    "    temp_X_train  = []\n",
    "    temp_y_train  = []\n",
    "\n",
    "    for j in range(len(y) - window_size): # 把 1d time series 切成好幾段，變成要輸入的 X, y\n",
    "\n",
    "        train_index = np.arange(j, window_size + j)\n",
    "        test_index  = window_size + j\n",
    "\n",
    "        temp_X_train.append(fun_predictors(y=y_values[train_index]))\n",
    "        temp_y_train.append(y_values[test_index])\n",
    "\n",
    "    X_train_values = np.vstack(temp_X_train)\n",
    "    y_train_values = np.array(temp_y_train)\n",
    "\n",
    "    if np.isnan(X_train_values).any():\n",
    "        raise ValueError(\n",
    "            f\"`fun_predictors()` is returning `NaN` values for series {serie}.\"\n",
    "        )\n",
    "\n",
    "    if i == 0:\n",
    "        X_train = X_train_values\n",
    "        y_train = y_train_values\n",
    "    else:\n",
    "        X_train = np.vstack((X_train, X_train_values))\n",
    "        y_train = np.append(y_train, y_train_values)\n",
    "\n",
    "    X_level = [serie]*len(X_train_values)\n",
    "    X_levels.extend(X_level)\n",
    "\n",
    "# NOTE: name_predictors part. Meaning is not clear so far\n",
    "\n",
    "# y_values correspond only to the last series of `series`. Since the columns\n",
    "# of X_train are the same for all series, the check is the same.\n",
    "# 這寫法真糟，強制使用 array[-n:] 取值，不然檢查會失敗 :(\n",
    "expected = fun_predictors(y_values[:-1])\n",
    "observed = X_train[-1, :]\n",
    "\n",
    "if expected.shape != observed.shape or not (expected == observed).all():\n",
    "    raise ValueError(\n",
    "        (\n",
    "            f\"The `window_size` argument ({window_size}), declared when \"\n",
    "            f\"initializing the forecaster, does not correspond to the window \"\n",
    "            f\"used by `fun_predictors()`.\"\n",
    "        )\n",
    "    )"
   ]
  },
  {
   "attachments": {},
   "cell_type": "markdown",
   "metadata": {},
   "source": [
    "# 真的能動???"
   ]
  },
  {
   "cell_type": "code",
   "execution_count": 160,
   "metadata": {},
   "outputs": [],
   "source": [
    "# Libraries\n",
    "# ==============================================================================\n",
    "import numpy as np\n",
    "import pandas as pd\n",
    "import matplotlib.pyplot as plt\n",
    "from skforecast.ForecasterAutoregCustom import ForecasterAutoregCustom\n",
    "from skforecast.ForecasterAutoregMultiSeriesCustom import ForecasterAutoregMultiSeriesCustom\n",
    "from sklearn.ensemble import RandomForestRegressor\n",
    "from sklearn.metrics import mean_squared_error\n",
    "from skforecast.model_selection import bayesian_search_forecaster"
   ]
  },
  {
   "cell_type": "code",
   "execution_count": 161,
   "metadata": {},
   "outputs": [
    {
     "data": {
      "text/html": [
       "<div>\n",
       "<style scoped>\n",
       "    .dataframe tbody tr th:only-of-type {\n",
       "        vertical-align: middle;\n",
       "    }\n",
       "\n",
       "    .dataframe tbody tr th {\n",
       "        vertical-align: top;\n",
       "    }\n",
       "\n",
       "    .dataframe thead th {\n",
       "        text-align: right;\n",
       "    }\n",
       "</style>\n",
       "<table border=\"1\" class=\"dataframe\">\n",
       "  <thead>\n",
       "    <tr style=\"text-align: right;\">\n",
       "      <th></th>\n",
       "      <th>item_1</th>\n",
       "      <th>item_2</th>\n",
       "      <th>item_3</th>\n",
       "    </tr>\n",
       "    <tr>\n",
       "      <th>date</th>\n",
       "      <th></th>\n",
       "      <th></th>\n",
       "      <th></th>\n",
       "    </tr>\n",
       "  </thead>\n",
       "  <tbody>\n",
       "    <tr>\n",
       "      <th>2012-01-01</th>\n",
       "      <td>8.253175</td>\n",
       "      <td>21.047727</td>\n",
       "      <td>19.429739</td>\n",
       "    </tr>\n",
       "    <tr>\n",
       "      <th>2012-01-02</th>\n",
       "      <td>22.777826</td>\n",
       "      <td>26.578125</td>\n",
       "      <td>28.009863</td>\n",
       "    </tr>\n",
       "    <tr>\n",
       "      <th>2012-01-03</th>\n",
       "      <td>27.549099</td>\n",
       "      <td>31.751042</td>\n",
       "      <td>32.078922</td>\n",
       "    </tr>\n",
       "    <tr>\n",
       "      <th>2012-01-04</th>\n",
       "      <td>25.895533</td>\n",
       "      <td>24.567708</td>\n",
       "      <td>27.252276</td>\n",
       "    </tr>\n",
       "    <tr>\n",
       "      <th>2012-01-05</th>\n",
       "      <td>21.379238</td>\n",
       "      <td>18.191667</td>\n",
       "      <td>20.357737</td>\n",
       "    </tr>\n",
       "  </tbody>\n",
       "</table>\n",
       "</div>"
      ],
      "text/plain": [
       "               item_1     item_2     item_3\n",
       "date                                       \n",
       "2012-01-01   8.253175  21.047727  19.429739\n",
       "2012-01-02  22.777826  26.578125  28.009863\n",
       "2012-01-03  27.549099  31.751042  32.078922\n",
       "2012-01-04  25.895533  24.567708  27.252276\n",
       "2012-01-05  21.379238  18.191667  20.357737"
      ]
     },
     "execution_count": 161,
     "metadata": {},
     "output_type": "execute_result"
    }
   ],
   "source": [
    "# Data download\n",
    "# ==============================================================================\n",
    "url = ('https://raw.githubusercontent.com/JoaquinAmatRodrigo/skforecast/master/'\n",
    "       'data/simulated_items_sales.csv')\n",
    "data = pd.read_csv(url, sep=',')\n",
    "\n",
    "# Data preparation\n",
    "# ==============================================================================\n",
    "data['date'] = pd.to_datetime(data['date'], format='%Y-%m-%d')\n",
    "data = data.set_index('date')\n",
    "data = data.asfreq('D')\n",
    "data = data.sort_index()\n",
    "data.head()"
   ]
  },
  {
   "cell_type": "code",
   "execution_count": 162,
   "metadata": {},
   "outputs": [
    {
     "name": "stdout",
     "output_type": "stream",
     "text": [
      "Train dates : 2012-01-01 00:00:00 --- 2014-07-15 00:00:00  (n=927)\n",
      "Test dates  : 2014-07-16 00:00:00 --- 2015-01-01 00:00:00  (n=170)\n"
     ]
    }
   ],
   "source": [
    "# Split data into train-val-test\n",
    "# ==============================================================================\n",
    "end_train = '2014-07-15 23:59:00'\n",
    "data_train = data.loc[:end_train, :].copy()\n",
    "data_test  = data.loc[end_train:, :].copy()\n",
    "\n",
    "print(\n",
    "    f\"Train dates : {data_train.index.min()} --- {data_train.index.max()}  \"\n",
    "    f\"(n={len(data_train)})\"\n",
    ")\n",
    "print(\n",
    "    f\"Test dates  : {data_test.index.min()} --- {data_test.index.max()}  \"\n",
    "    f\"(n={len(data_test)})\"\n",
    ")"
   ]
  },
  {
   "cell_type": "code",
   "execution_count": 163,
   "metadata": {},
   "outputs": [],
   "source": [
    "# Custom function to create predictors\n",
    "# ==============================================================================\n",
    "def create_complex_predictors(y):\n",
    "    \"\"\"\n",
    "    Create first 10 lags of a time series.\n",
    "    Calculate moving average with window 20.\n",
    "    \"\"\"\n",
    "\n",
    "    lags = y[-1:-11:-1]     # window_size = 10  \n",
    "    mean = np.mean(y[-20:]) # window_size = 20\n",
    "    predictors = np.hstack([lags, mean])\n",
    "\n",
    "    return predictors"
   ]
  },
  {
   "cell_type": "code",
   "execution_count": 166,
   "metadata": {},
   "outputs": [],
   "source": [
    "# Create and fit forecaster\n",
    "# ==============================================================================\n",
    "forecaster = ForecasterAutoregMultiSeriesCustom(\n",
    "                 regressor       = RandomForestRegressor(random_state=123),\n",
    "                 fun_predictors  = create_complex_predictors,\n",
    "                 name_predictors = [f'lag {i}' for i in range(1, 11)] + ['moving_avg_20'],\n",
    "                 window_size     = 21 # window_size needed by the mean is the most restrictive one\n",
    "             )\n",
    "\n",
    "forecaster.fit(series=data_train)"
   ]
  },
  {
   "cell_type": "code",
   "execution_count": null,
   "metadata": {},
   "outputs": [],
   "source": [
    "from skforecast.ForecasterAutoregMultiSeries import ForecasterAutoregMultiSeries\n",
    "from sklearn.linear_model import Ridge\n",
    "from sklearn.ensemble import RandomForestRegressor\n",
    "from skforecast.model_selection_multiseries import random_search_forecaster_multiseries\n",
    "# Data download\n",
    "# ==============================================================================\n",
    "url = (\n",
    "       'https://raw.githubusercontent.com/JoaquinAmatRodrigo/skforecast/master/'\n",
    "       'data/simulated_items_sales.csv'\n",
    ")\n",
    "data = pd.read_csv(url, sep=',')\n",
    "\n",
    "# Data preparation\n",
    "# ==============================================================================\n",
    "data['date'] = pd.to_datetime(data['date'], format='%Y-%m-%d')\n",
    "data = data.set_index('date')\n",
    "data = data.asfreq('D')\n",
    "data = data.sort_index()\n",
    "data.head()\n",
    "\n",
    "# Create and fit forecaster multi series\n",
    "# ==============================================================================\n",
    "forecaster = ForecasterAutoregMultiSeries(\n",
    "                 regressor          = RandomForestRegressor(random_state=123),\n",
    "                 lags               = 24,\n",
    "             )\n",
    "\n",
    "lags_grid = [3, 5]\n",
    "\n",
    "# Regressor hyperparameters\n",
    "param_distributions = {\n",
    "    'n_estimators': np.arange(start=10, stop=100, step=1, dtype=int),\n",
    "    'max_depth': np.arange(start=5, stop=30, step=1, dtype=int)\n",
    "}\n",
    "\n"
   ]
  },
  {
   "cell_type": "code",
   "execution_count": 78,
   "metadata": {},
   "outputs": [],
   "source": [
    "from typing import Callable, Optional, Union, Any\n",
    "import numpy as np\n",
    "\n",
    "\n",
    "class NewForecaster(ForecasterAutoregMultiSeries):\n",
    "    def __init__(self, regressor: object, lags: int | np.ndarray | list, transformer_series: object | dict | None = None, transformer_exog: object | None = None, weight_func: Callable[..., Any] | dict | None = None, series_weights: dict | None = None, forecaster_id: str | int | None = None) -> None:\n",
    "        super().__init__(regressor, lags, transformer_series, transformer_exog, weight_func, series_weights, forecaster_id)\n",
    "        self.__name__ = \"Fake\"\n",
    "    @staticmethod\n",
    "    def __dummy_function():\n",
    "        print(\"dummy\")\n",
    "\n",
    "# NewForecaster.__name__ = \"FakeForecasterAutoregMultiSeries\"\n",
    "nf = NewForecaster(RandomForestRegressor(), 2)"
   ]
  },
  {
   "attachments": {},
   "cell_type": "markdown",
   "metadata": {},
   "source": [
    "# Causal model"
   ]
  },
  {
   "cell_type": "code",
   "execution_count": 11,
   "metadata": {},
   "outputs": [],
   "source": [
    "import numpy as np\n",
    "\n",
    "def generate_time_series(batch_size, n_steps):\n",
    "    freq1, freq2, offsets1, offsets2 = np.random.rand(4, batch_size, 1)\n",
    "    time = np.linspace(0, 1, n_steps)\n",
    "    series = 0.5 * np.sin((time - offsets1) * (freq1 * 10 + 10))\n",
    "    series += 0.2 * np.sin((time - offsets2) * (freq2 * 10 + 10))\n",
    "    series += 0.1 * (np.random.rand(batch_size, n_steps) - 0.5)\n",
    "    return series[..., np.newaxis].astype(np.float32)\n",
    "\n",
    "batch_size = 10000\n",
    "n_steps = 50\n",
    "series = generate_time_series(batch_size, n_steps + 1)\n",
    "X_train, y_train = series[:7000, :n_steps], series[:7000, -1]\n",
    "X_valid, y_valid = series[7000:9000, :n_steps], series[7000:9000, -1]\n",
    "X_test, y_test = series[9000:, :n_steps], series[9000:, -1]"
   ]
  },
  {
   "cell_type": "code",
   "execution_count": 12,
   "metadata": {},
   "outputs": [],
   "source": [
    "series = generate_time_series(batch_size, n_steps + 10)\n",
    "X_train, y_train = series[:7000, :n_steps], series[:7000, -10:, 0]\n",
    "X_valid, y_valid = series[7000:9000, :n_steps], series[7000:9000, -10:, 0]\n",
    "X_test, y_test = series[9000:, :n_steps], series[9000:, -10:, 0]\n",
    "\n",
    "Y = np.empty((batch_size, n_steps, 10))\n",
    "for step_ahead in range(1, 10 + 1):\n",
    "    Y[:, :, step_ahead - 1] = series[:, step_ahead:step_ahead + n_steps, 0]\n",
    "Y_train = Y[:7000]\n",
    "Y_valid = Y[7000:9000]\n",
    "Y_test = Y[9000:]"
   ]
  },
  {
   "cell_type": "code",
   "execution_count": 15,
   "metadata": {},
   "outputs": [
    {
     "data": {
      "text/plain": [
       "((7000, 50, 1), (7000, 10))"
      ]
     },
     "execution_count": 15,
     "metadata": {},
     "output_type": "execute_result"
    }
   ],
   "source": [
    "X_train.shape, y_train.shape"
   ]
  },
  {
   "cell_type": "code",
   "execution_count": 1,
   "metadata": {},
   "outputs": [],
   "source": [
    "import numpy as np\n",
    "from sklearn.ensemble import RandomForestRegressor\n",
    "\n",
    "X = np.zeros([20, 5])\n",
    "y = np.zeros([20, 5])\n",
    "space = np.linspace(0, 2 * np.pi, 10 + 20)\n",
    "space = np.sin(space)\n",
    "for i in range(20):\n",
    "    X[i] = space[i:i+5]\n",
    "    y[i] = space[i+5:i+10]"
   ]
  },
  {
   "cell_type": "code",
   "execution_count": 16,
   "metadata": {},
   "outputs": [
    {
     "data": {
      "text/html": [
       "<style>#sk-container-id-1 {color: black;background-color: white;}#sk-container-id-1 pre{padding: 0;}#sk-container-id-1 div.sk-toggleable {background-color: white;}#sk-container-id-1 label.sk-toggleable__label {cursor: pointer;display: block;width: 100%;margin-bottom: 0;padding: 0.3em;box-sizing: border-box;text-align: center;}#sk-container-id-1 label.sk-toggleable__label-arrow:before {content: \"▸\";float: left;margin-right: 0.25em;color: #696969;}#sk-container-id-1 label.sk-toggleable__label-arrow:hover:before {color: black;}#sk-container-id-1 div.sk-estimator:hover label.sk-toggleable__label-arrow:before {color: black;}#sk-container-id-1 div.sk-toggleable__content {max-height: 0;max-width: 0;overflow: hidden;text-align: left;background-color: #f0f8ff;}#sk-container-id-1 div.sk-toggleable__content pre {margin: 0.2em;color: black;border-radius: 0.25em;background-color: #f0f8ff;}#sk-container-id-1 input.sk-toggleable__control:checked~div.sk-toggleable__content {max-height: 200px;max-width: 100%;overflow: auto;}#sk-container-id-1 input.sk-toggleable__control:checked~label.sk-toggleable__label-arrow:before {content: \"▾\";}#sk-container-id-1 div.sk-estimator input.sk-toggleable__control:checked~label.sk-toggleable__label {background-color: #d4ebff;}#sk-container-id-1 div.sk-label input.sk-toggleable__control:checked~label.sk-toggleable__label {background-color: #d4ebff;}#sk-container-id-1 input.sk-hidden--visually {border: 0;clip: rect(1px 1px 1px 1px);clip: rect(1px, 1px, 1px, 1px);height: 1px;margin: -1px;overflow: hidden;padding: 0;position: absolute;width: 1px;}#sk-container-id-1 div.sk-estimator {font-family: monospace;background-color: #f0f8ff;border: 1px dotted black;border-radius: 0.25em;box-sizing: border-box;margin-bottom: 0.5em;}#sk-container-id-1 div.sk-estimator:hover {background-color: #d4ebff;}#sk-container-id-1 div.sk-parallel-item::after {content: \"\";width: 100%;border-bottom: 1px solid gray;flex-grow: 1;}#sk-container-id-1 div.sk-label:hover label.sk-toggleable__label {background-color: #d4ebff;}#sk-container-id-1 div.sk-serial::before {content: \"\";position: absolute;border-left: 1px solid gray;box-sizing: border-box;top: 0;bottom: 0;left: 50%;z-index: 0;}#sk-container-id-1 div.sk-serial {display: flex;flex-direction: column;align-items: center;background-color: white;padding-right: 0.2em;padding-left: 0.2em;position: relative;}#sk-container-id-1 div.sk-item {position: relative;z-index: 1;}#sk-container-id-1 div.sk-parallel {display: flex;align-items: stretch;justify-content: center;background-color: white;position: relative;}#sk-container-id-1 div.sk-item::before, #sk-container-id-1 div.sk-parallel-item::before {content: \"\";position: absolute;border-left: 1px solid gray;box-sizing: border-box;top: 0;bottom: 0;left: 50%;z-index: -1;}#sk-container-id-1 div.sk-parallel-item {display: flex;flex-direction: column;z-index: 1;position: relative;background-color: white;}#sk-container-id-1 div.sk-parallel-item:first-child::after {align-self: flex-end;width: 50%;}#sk-container-id-1 div.sk-parallel-item:last-child::after {align-self: flex-start;width: 50%;}#sk-container-id-1 div.sk-parallel-item:only-child::after {width: 0;}#sk-container-id-1 div.sk-dashed-wrapped {border: 1px dashed gray;margin: 0 0.4em 0.5em 0.4em;box-sizing: border-box;padding-bottom: 0.4em;background-color: white;}#sk-container-id-1 div.sk-label label {font-family: monospace;font-weight: bold;display: inline-block;line-height: 1.2em;}#sk-container-id-1 div.sk-label-container {text-align: center;}#sk-container-id-1 div.sk-container {/* jupyter's `normalize.less` sets `[hidden] { display: none; }` but bootstrap.min.css set `[hidden] { display: none !important; }` so we also need the `!important` here to be able to override the default hidden behavior on the sphinx rendered scikit-learn.org. See: https://github.com/scikit-learn/scikit-learn/issues/21755 */display: inline-block !important;position: relative;}#sk-container-id-1 div.sk-text-repr-fallback {display: none;}</style><div id=\"sk-container-id-1\" class=\"sk-top-container\"><div class=\"sk-text-repr-fallback\"><pre>RandomForestRegressor()</pre><b>In a Jupyter environment, please rerun this cell to show the HTML representation or trust the notebook. <br />On GitHub, the HTML representation is unable to render, please try loading this page with nbviewer.org.</b></div><div class=\"sk-container\" hidden><div class=\"sk-item\"><div class=\"sk-estimator sk-toggleable\"><input class=\"sk-toggleable__control sk-hidden--visually\" id=\"sk-estimator-id-1\" type=\"checkbox\" checked><label for=\"sk-estimator-id-1\" class=\"sk-toggleable__label sk-toggleable__label-arrow\">RandomForestRegressor</label><div class=\"sk-toggleable__content\"><pre>RandomForestRegressor()</pre></div></div></div></div></div>"
      ],
      "text/plain": [
       "RandomForestRegressor()"
      ]
     },
     "execution_count": 16,
     "metadata": {},
     "output_type": "execute_result"
    }
   ],
   "source": [
    "reg = RandomForestRegressor()\n",
    "reg.fit(X, y)\n"
   ]
  },
  {
   "cell_type": "code",
   "execution_count": 7,
   "metadata": {},
   "outputs": [
    {
     "data": {
      "text/html": [
       "<div>\n",
       "<style scoped>\n",
       "    .dataframe tbody tr th:only-of-type {\n",
       "        vertical-align: middle;\n",
       "    }\n",
       "\n",
       "    .dataframe tbody tr th {\n",
       "        vertical-align: top;\n",
       "    }\n",
       "\n",
       "    .dataframe thead th {\n",
       "        text-align: right;\n",
       "    }\n",
       "</style>\n",
       "<table border=\"1\" class=\"dataframe\">\n",
       "  <thead>\n",
       "    <tr style=\"text-align: right;\">\n",
       "      <th></th>\n",
       "      <th>0</th>\n",
       "      <th>1</th>\n",
       "      <th>2</th>\n",
       "      <th>3</th>\n",
       "      <th>4</th>\n",
       "    </tr>\n",
       "  </thead>\n",
       "  <tbody>\n",
       "    <tr>\n",
       "      <th>0</th>\n",
       "      <td>0.000000</td>\n",
       "      <td>0.214970</td>\n",
       "      <td>0.419889</td>\n",
       "      <td>0.605174</td>\n",
       "      <td>0.762162</td>\n",
       "    </tr>\n",
       "    <tr>\n",
       "      <th>1</th>\n",
       "      <td>0.214970</td>\n",
       "      <td>0.419889</td>\n",
       "      <td>0.605174</td>\n",
       "      <td>0.762162</td>\n",
       "      <td>0.883512</td>\n",
       "    </tr>\n",
       "    <tr>\n",
       "      <th>2</th>\n",
       "      <td>0.419889</td>\n",
       "      <td>0.605174</td>\n",
       "      <td>0.762162</td>\n",
       "      <td>0.883512</td>\n",
       "      <td>0.963550</td>\n",
       "    </tr>\n",
       "    <tr>\n",
       "      <th>3</th>\n",
       "      <td>0.605174</td>\n",
       "      <td>0.762162</td>\n",
       "      <td>0.883512</td>\n",
       "      <td>0.963550</td>\n",
       "      <td>0.998533</td>\n",
       "    </tr>\n",
       "    <tr>\n",
       "      <th>4</th>\n",
       "      <td>0.762162</td>\n",
       "      <td>0.883512</td>\n",
       "      <td>0.963550</td>\n",
       "      <td>0.998533</td>\n",
       "      <td>0.986827</td>\n",
       "    </tr>\n",
       "    <tr>\n",
       "      <th>5</th>\n",
       "      <td>0.883512</td>\n",
       "      <td>0.963550</td>\n",
       "      <td>0.998533</td>\n",
       "      <td>0.986827</td>\n",
       "      <td>0.928977</td>\n",
       "    </tr>\n",
       "    <tr>\n",
       "      <th>6</th>\n",
       "      <td>0.963550</td>\n",
       "      <td>0.998533</td>\n",
       "      <td>0.986827</td>\n",
       "      <td>0.928977</td>\n",
       "      <td>0.827689</td>\n",
       "    </tr>\n",
       "    <tr>\n",
       "      <th>7</th>\n",
       "      <td>0.998533</td>\n",
       "      <td>0.986827</td>\n",
       "      <td>0.928977</td>\n",
       "      <td>0.827689</td>\n",
       "      <td>0.687699</td>\n",
       "    </tr>\n",
       "    <tr>\n",
       "      <th>8</th>\n",
       "      <td>0.986827</td>\n",
       "      <td>0.928977</td>\n",
       "      <td>0.827689</td>\n",
       "      <td>0.687699</td>\n",
       "      <td>0.515554</td>\n",
       "    </tr>\n",
       "    <tr>\n",
       "      <th>9</th>\n",
       "      <td>0.928977</td>\n",
       "      <td>0.827689</td>\n",
       "      <td>0.687699</td>\n",
       "      <td>0.515554</td>\n",
       "      <td>0.319302</td>\n",
       "    </tr>\n",
       "    <tr>\n",
       "      <th>10</th>\n",
       "      <td>0.827689</td>\n",
       "      <td>0.687699</td>\n",
       "      <td>0.515554</td>\n",
       "      <td>0.319302</td>\n",
       "      <td>0.108119</td>\n",
       "    </tr>\n",
       "    <tr>\n",
       "      <th>11</th>\n",
       "      <td>0.687699</td>\n",
       "      <td>0.515554</td>\n",
       "      <td>0.319302</td>\n",
       "      <td>0.108119</td>\n",
       "      <td>-0.108119</td>\n",
       "    </tr>\n",
       "    <tr>\n",
       "      <th>12</th>\n",
       "      <td>0.515554</td>\n",
       "      <td>0.319302</td>\n",
       "      <td>0.108119</td>\n",
       "      <td>-0.108119</td>\n",
       "      <td>-0.319302</td>\n",
       "    </tr>\n",
       "    <tr>\n",
       "      <th>13</th>\n",
       "      <td>0.319302</td>\n",
       "      <td>0.108119</td>\n",
       "      <td>-0.108119</td>\n",
       "      <td>-0.319302</td>\n",
       "      <td>-0.515554</td>\n",
       "    </tr>\n",
       "    <tr>\n",
       "      <th>14</th>\n",
       "      <td>0.108119</td>\n",
       "      <td>-0.108119</td>\n",
       "      <td>-0.319302</td>\n",
       "      <td>-0.515554</td>\n",
       "      <td>-0.687699</td>\n",
       "    </tr>\n",
       "    <tr>\n",
       "      <th>15</th>\n",
       "      <td>-0.108119</td>\n",
       "      <td>-0.319302</td>\n",
       "      <td>-0.515554</td>\n",
       "      <td>-0.687699</td>\n",
       "      <td>-0.827689</td>\n",
       "    </tr>\n",
       "    <tr>\n",
       "      <th>16</th>\n",
       "      <td>-0.319302</td>\n",
       "      <td>-0.515554</td>\n",
       "      <td>-0.687699</td>\n",
       "      <td>-0.827689</td>\n",
       "      <td>-0.928977</td>\n",
       "    </tr>\n",
       "    <tr>\n",
       "      <th>17</th>\n",
       "      <td>-0.515554</td>\n",
       "      <td>-0.687699</td>\n",
       "      <td>-0.827689</td>\n",
       "      <td>-0.928977</td>\n",
       "      <td>-0.986827</td>\n",
       "    </tr>\n",
       "    <tr>\n",
       "      <th>18</th>\n",
       "      <td>-0.687699</td>\n",
       "      <td>-0.827689</td>\n",
       "      <td>-0.928977</td>\n",
       "      <td>-0.986827</td>\n",
       "      <td>-0.998533</td>\n",
       "    </tr>\n",
       "    <tr>\n",
       "      <th>19</th>\n",
       "      <td>-0.827689</td>\n",
       "      <td>-0.928977</td>\n",
       "      <td>-0.986827</td>\n",
       "      <td>-0.998533</td>\n",
       "      <td>-0.963550</td>\n",
       "    </tr>\n",
       "  </tbody>\n",
       "</table>\n",
       "</div>"
      ],
      "text/plain": [
       "           0         1         2         3         4\n",
       "0   0.000000  0.214970  0.419889  0.605174  0.762162\n",
       "1   0.214970  0.419889  0.605174  0.762162  0.883512\n",
       "2   0.419889  0.605174  0.762162  0.883512  0.963550\n",
       "3   0.605174  0.762162  0.883512  0.963550  0.998533\n",
       "4   0.762162  0.883512  0.963550  0.998533  0.986827\n",
       "5   0.883512  0.963550  0.998533  0.986827  0.928977\n",
       "6   0.963550  0.998533  0.986827  0.928977  0.827689\n",
       "7   0.998533  0.986827  0.928977  0.827689  0.687699\n",
       "8   0.986827  0.928977  0.827689  0.687699  0.515554\n",
       "9   0.928977  0.827689  0.687699  0.515554  0.319302\n",
       "10  0.827689  0.687699  0.515554  0.319302  0.108119\n",
       "11  0.687699  0.515554  0.319302  0.108119 -0.108119\n",
       "12  0.515554  0.319302  0.108119 -0.108119 -0.319302\n",
       "13  0.319302  0.108119 -0.108119 -0.319302 -0.515554\n",
       "14  0.108119 -0.108119 -0.319302 -0.515554 -0.687699\n",
       "15 -0.108119 -0.319302 -0.515554 -0.687699 -0.827689\n",
       "16 -0.319302 -0.515554 -0.687699 -0.827689 -0.928977\n",
       "17 -0.515554 -0.687699 -0.827689 -0.928977 -0.986827\n",
       "18 -0.687699 -0.827689 -0.928977 -0.986827 -0.998533\n",
       "19 -0.827689 -0.928977 -0.986827 -0.998533 -0.963550"
      ]
     },
     "execution_count": 7,
     "metadata": {},
     "output_type": "execute_result"
    }
   ],
   "source": [
    "import pandas as pd\n",
    "df = pd.DataFrame(X)\n",
    "df"
   ]
  },
  {
   "cell_type": "code",
   "execution_count": 31,
   "metadata": {},
   "outputs": [
    {
     "data": {
      "text/plain": [
       "0.9864778687296957"
      ]
     },
     "execution_count": 31,
     "metadata": {},
     "output_type": "execute_result"
    }
   ],
   "source": [
    "reg.fit(df, y)\n",
    "reg.score(df, y)"
   ]
  },
  {
   "cell_type": "code",
   "execution_count": 64,
   "metadata": {},
   "outputs": [],
   "source": [
    "exog_col_names = {\"totalFare\", \"ariline\", \"route\", \"departuretime\"}\n",
    "series_col_names = {\"totalFare\", \"SeatsRemaining\"}"
   ]
  },
  {
   "cell_type": "code",
   "execution_count": 70,
   "metadata": {},
   "outputs": [
    {
     "name": "stdout",
     "output_type": "stream",
     "text": [
      "111 ns ± 1.16 ns per loop (mean ± std. dev. of 7 runs, 10,000,000 loops each)\n"
     ]
    }
   ],
   "source": [
    "%%timeit\n",
    "if len(exog_col_names - series_col_names) != len(exog_col_names):\n",
    "    pass"
   ]
  },
  {
   "cell_type": "code",
   "execution_count": 71,
   "metadata": {},
   "outputs": [
    {
     "name": "stdout",
     "output_type": "stream",
     "text": [
      "83.5 ns ± 0.257 ns per loop (mean ± std. dev. of 7 runs, 10,000,000 loops each)\n"
     ]
    }
   ],
   "source": [
    "%%timeit\n",
    "if exog_col_names & series_col_names:\n",
    "    pass"
   ]
  }
 ],
 "metadata": {
  "kernelspec": {
   "display_name": "Python 3",
   "language": "python",
   "name": "python3"
  },
  "language_info": {
   "codemirror_mode": {
    "name": "ipython",
    "version": 3
   },
   "file_extension": ".py",
   "mimetype": "text/x-python",
   "name": "python",
   "nbconvert_exporter": "python",
   "pygments_lexer": "ipython3",
   "version": "3.9.16"
  },
  "orig_nbformat": 4
 },
 "nbformat": 4,
 "nbformat_minor": 2
}
