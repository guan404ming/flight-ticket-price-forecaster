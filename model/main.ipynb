{
 "cells": [
  {
   "cell_type": "code",
   "execution_count": 1,
   "metadata": {},
   "outputs": [],
   "source": [
    "# !pipenv install tensorflow-macos tensorflow\n",
    "# !pipenv install keras"
   ]
  },
  {
   "cell_type": "code",
   "execution_count": 2,
   "metadata": {},
   "outputs": [],
   "source": [
    "import numpy as np\n",
    "import tensorflow as tf\n",
    "\n",
    "tf.config.set_visible_devices([], 'GPU') # 我的電腦不下這條會有些奇奇怪怪的問題"
   ]
  },
  {
   "cell_type": "code",
   "execution_count": 3,
   "metadata": {},
   "outputs": [],
   "source": [
    "with open(\"X_y_keras.npz\", \"rb\") as file:\n",
    "    npz = np.load(file)\n",
    "    X = npz[\"X\"]\n",
    "    y = npz[\"y\"]"
   ]
  },
  {
   "cell_type": "code",
   "execution_count": 4,
   "metadata": {},
   "outputs": [
    {
     "data": {
      "text/plain": [
       "((75934, 14, 11), (75934, 7, 2))"
      ]
     },
     "execution_count": 4,
     "metadata": {},
     "output_type": "execute_result"
    }
   ],
   "source": [
    "X.shape, y.shape"
   ]
  },
  {
   "cell_type": "markdown",
   "metadata": {},
   "source": [
    "我個理解是\n",
    "X.shape = (75934, 14, 11) 分別是資料筆數，lag 以及 feature 數目\n",
    "y.shape =  (75934, 7, 2) 分別是資料筆數，step 以及兩個依變數(fare, remaining_seats)\n",
    "應該沒錯吧（汗）所以依變項其實是二維的"
   ]
  },
  {
   "cell_type": "code",
   "execution_count": 5,
   "metadata": {},
   "outputs": [],
   "source": [
    "from keras.models import Sequential\n",
    "from keras.layers import LSTM, Dense, TimeDistributed, Lambda, Reshape\n",
    "import keras.backend as K\n",
    "\n",
    "# 定義調整形狀的函數\n",
    "def adjust_shape(x):\n",
    "    return x[:, :7, :2]\n"
   ]
  },
  {
   "cell_type": "code",
   "execution_count": 6,
   "metadata": {},
   "outputs": [],
   "source": [
    "model = Sequential()\n",
    "model.add(LSTM(units=64, input_shape=(14, 11), return_sequences=True))  # LSTM\n",
    "model.add(TimeDistributed(Dense(units=2)))  # 輸出層\n",
    "\n",
    "# 使用 Lambda 層來調整形狀\n",
    "model.add(Lambda(adjust_shape))\n",
    "\n",
    "model.compile(optimizer='adam', loss='mse')"
   ]
  },
  {
   "cell_type": "code",
   "execution_count": 7,
   "metadata": {},
   "outputs": [
    {
     "name": "stdout",
     "output_type": "stream",
     "text": [
      "Model: \"sequential\"\n",
      "_________________________________________________________________\n",
      " Layer (type)                Output Shape              Param #   \n",
      "=================================================================\n",
      " lstm (LSTM)                 (None, 14, 64)            19456     \n",
      "                                                                 \n",
      " time_distributed (TimeDist  (None, 14, 2)             130       \n",
      " ributed)                                                        \n",
      "                                                                 \n",
      " lambda (Lambda)             (None, 7, 2)              0         \n",
      "                                                                 \n",
      "=================================================================\n",
      "Total params: 19586 (76.51 KB)\n",
      "Trainable params: 19586 (76.51 KB)\n",
      "Non-trainable params: 0 (0.00 Byte)\n",
      "_________________________________________________________________\n"
     ]
    }
   ],
   "source": [
    "model.summary()"
   ]
  },
  {
   "cell_type": "code",
   "execution_count": 8,
   "metadata": {},
   "outputs": [
    {
     "name": "stdout",
     "output_type": "stream",
     "text": [
      "Epoch 1/10\n",
      "2373/2373 [==============================] - 7s 3ms/step - loss: 70311.1562\n",
      "Epoch 2/10\n",
      "2373/2373 [==============================] - 6s 3ms/step - loss: 40181.0156\n",
      "Epoch 3/10\n",
      "2373/2373 [==============================] - 6s 3ms/step - loss: 20703.0430\n",
      "Epoch 4/10\n",
      "2373/2373 [==============================] - 6s 3ms/step - loss: 10304.1426\n",
      "Epoch 5/10\n",
      "2373/2373 [==============================] - 6s 3ms/step - loss: 6206.7114\n",
      "Epoch 6/10\n",
      "2373/2373 [==============================] - 6s 3ms/step - loss: 4941.7993\n",
      "Epoch 7/10\n",
      "2373/2373 [==============================] - 6s 3ms/step - loss: 4501.1343\n",
      "Epoch 8/10\n",
      "2373/2373 [==============================] - 6s 3ms/step - loss: 4229.6787\n",
      "Epoch 9/10\n",
      "2373/2373 [==============================] - 6s 3ms/step - loss: 3823.3650\n",
      "Epoch 10/10\n",
      "2373/2373 [==============================] - 6s 3ms/step - loss: 3151.8611\n"
     ]
    },
    {
     "data": {
      "text/plain": [
       "<keras.src.callbacks.History at 0x17e3935d0>"
      ]
     },
     "execution_count": 8,
     "metadata": {},
     "output_type": "execute_result"
    }
   ],
   "source": [
    "model.fit(X, y, epochs=10, batch_size=32)"
   ]
  },
  {
   "cell_type": "markdown",
   "metadata": {},
   "source": [
    "Ｊ個 Loss 也太噁了吧（汗"
   ]
  },
  {
   "cell_type": "code",
   "execution_count": null,
   "metadata": {},
   "outputs": [],
   "source": []
  }
 ],
 "metadata": {
  "kernelspec": {
   "display_name": "Python 3 (ipykernel)",
   "language": "python",
   "name": "python3"
  },
  "language_info": {
   "codemirror_mode": {
    "name": "ipython",
    "version": 3
   },
   "file_extension": ".py",
   "mimetype": "text/x-python",
   "name": "python",
   "nbconvert_exporter": "python",
   "pygments_lexer": "ipython3",
   "version": "3.11.3"
  }
 },
 "nbformat": 4,
 "nbformat_minor": 4
}
